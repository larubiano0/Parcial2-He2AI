{
  "nbformat": 4,
  "nbformat_minor": 0,
  "metadata": {
    "colab": {
      "provenance": [],
      "authorship_tag": "ABX9TyO1jZ+Ofd+/R7tP9yiwNg9K",
      "include_colab_link": true
    },
    "kernelspec": {
      "name": "python3",
      "display_name": "Python 3"
    },
    "language_info": {
      "name": "python"
    }
  },
  "cells": [
    {
      "cell_type": "markdown",
      "metadata": {
        "id": "view-in-github",
        "colab_type": "text"
      },
      "source": [
        "<a href=\"https://colab.research.google.com/github/larubiano0/Parcial2-He2AI/blob/lucho/GDP_script.ipynb\" target=\"_parent\"><img src=\"https://colab.research.google.com/assets/colab-badge.svg\" alt=\"Open In Colab\"/></a>"
      ]
    },
    {
      "cell_type": "code",
      "source": [
        "import kagglehub\n",
        "import os\n",
        "import pandas as pd\n",
        "\n",
        "# Download latest version\n",
        "path = kagglehub.dataset_download(\"sazidthe1/world-gdp-data\")\n",
        "\n",
        "print(\"Path to dataset files:\", path)\n",
        "country_codes = pd.read_csv(os.path.join(path, 'country_codes.csv'))\n",
        "gdp_data = pd.read_csv(os.path.join(path, 'gdp_data.csv'))\n",
        "\n",
        "country_codes.head()\n",
        "gdp_data.head()\n"
      ],
      "metadata": {
        "colab": {
          "base_uri": "https://localhost:8080/"
        },
        "id": "XQg9iNCqMIdG",
        "outputId": "4509ebc6-bbc0-4ce0-9da5-0100af6fd792"
      },
      "execution_count": null,
      "outputs": [
        {
          "output_type": "stream",
          "name": "stdout",
          "text": [
            "Path to dataset files: /root/.cache/kagglehub/datasets/sazidthe1/world-gdp-data/versions/1\n",
            "['country_codes.csv', 'gdp_data.csv']\n"
          ]
        }
      ]
    }
  ]
}